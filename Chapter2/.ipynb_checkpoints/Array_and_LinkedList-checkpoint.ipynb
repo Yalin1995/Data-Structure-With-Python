{
 "cells": [
  {
   "cell_type": "markdown",
   "metadata": {},
   "source": [
    "## Selection sort"
   ]
  },
  {
   "cell_type": "code",
   "execution_count": 1,
   "metadata": {},
   "outputs": [],
   "source": [
    "def findSmallest(arrary):\n",
    "    smallest = arrary[0]\n",
    "    smallest_index = 0\n",
    "    for i in range(1,len(arrary)):\n",
    "        if smallest > arrary[i]:\n",
    "            smallest = arrary[i]\n",
    "            smallest_index = i\n",
    "    return smallest_index"
   ]
  },
  {
   "cell_type": "code",
   "execution_count": 2,
   "metadata": {},
   "outputs": [],
   "source": [
    "def selection_sort(arr):\n",
    "    sortedArrary = []\n",
    "    for i in range(0,len(arr)):\n",
    "        smallest_index = findSmallest(arr)\n",
    "        sortedArrary.append(arr[smallest_index])\n",
    "        arr.pop(smallest_index)\n",
    "    return sortedArrary"
   ]
  },
  {
   "cell_type": "code",
   "execution_count": 3,
   "metadata": {},
   "outputs": [
    {
     "name": "stdout",
     "output_type": "stream",
     "text": [
      "[2, 3, 5, 6, 10]\n"
     ]
    }
   ],
   "source": [
    "print(selection_sort([5,3,6,2,10]))"
   ]
  }
 ],
 "metadata": {
  "kernelspec": {
   "display_name": "TensorFlow(GPU)",
   "language": "python",
   "name": "tf-gpu"
  },
  "language_info": {
   "codemirror_mode": {
    "name": "ipython",
    "version": 3
   },
   "file_extension": ".py",
   "mimetype": "text/x-python",
   "name": "python",
   "nbconvert_exporter": "python",
   "pygments_lexer": "ipython3",
   "version": "3.7.5"
  }
 },
 "nbformat": 4,
 "nbformat_minor": 2
}
